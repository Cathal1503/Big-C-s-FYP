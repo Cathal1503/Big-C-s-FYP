{
 "cells": [
  {
   "cell_type": "code",
   "execution_count": 24,
   "metadata": {},
   "outputs": [],
   "source": [
    "import numpy as np\n",
    "import scipy.stats as stats\n",
    "from scipy.stats import t\n",
    "from scipy.stats import norm\n",
    "import matplotlib.pyplot as plt\n",
    "from scipy.stats import t, norm\n"
   ]
  },
  {
   "cell_type": "code",
   "execution_count": 25,
   "metadata": {},
   "outputs": [
    {
     "name": "stdout",
     "output_type": "stream",
     "text": [
      "[3.06245969 2.04166491 1.51052685 1.31891022 0.83327547 0.6007247\n",
      " 0.00854939 0.04579395 0.34993303 0.22816178]\n"
     ]
    }
   ],
   "source": [
    "n = 10\n",
    "# Create a random matrix A\n",
    "A = np.random.rand(n, n)\n",
    "A_trans = A * 2 - 1\n",
    "\n",
    "# Create a symmetric positive definite matrix using A^T * A\n",
    "M = np.dot(A_trans.T, A_trans)\n",
    "\n",
    "# Normalize the diagonal to be ones\n",
    "diagonal = np.sqrt(np.diag(M))\n",
    "M_normalised = M / diagonal[:, None] / diagonal[None, :]\n",
    "\n",
    "# Check eigenvalues to confirm positive definiteness\n",
    "eigenvalues = np.linalg.eigvals(M_normalised)\n",
    "print(eigenvalues)"
   ]
  },
  {
   "cell_type": "code",
   "execution_count": 26,
   "metadata": {},
   "outputs": [
    {
     "data": {
      "text/plain": [
       "(10, 10000)"
      ]
     },
     "execution_count": 26,
     "metadata": {},
     "output_type": "execute_result"
    }
   ],
   "source": [
    "v = 5\n",
    "R = np.eye(n)\n",
    "\n",
    "A = np.linalg.cholesky(R)\n",
    "\n",
    "Z = np.random.normal(size=(10000, n)).T\n",
    "\n",
    "s = np.random.chisquare(v, (10000, n)).T\n",
    "\n",
    "y = A.dot(Z)\n",
    "\n",
    "x = np.sqrt(v) * y / np.sqrt(s)\n",
    "\n",
    "# Assuming you want to calculate the CDF of x under a t-distribution for each component\n",
    "\n",
    "u = t.cdf(x, df=v)\n",
    "\n",
    "u.shape"
   ]
  },
  {
   "cell_type": "code",
   "execution_count": 27,
   "metadata": {},
   "outputs": [],
   "source": [
    "rng = np.random.default_rng(68)\n",
    "N = n\n",
    "h = 10**-4\n",
    "t = np.arange(0,1.00,h)\n",
    "Z = (rng.standard_normal(size=(len(t),N))).T\n",
    "# Cholesky decomposition\n",
    "A = np.linalg.cholesky(M_normalised)\n",
    "# Create correlated normal random variables\n",
    "W = norm.ppf(u)\n",
    "a = 10\n",
    "sig = 1\n",
    "X = 5*np.ones((N, len(t)))\n",
    "for i in range(len(t)):\n",
    "    \n",
    "    for asset in range(N):\n",
    "           X[asset, i] = X[asset, i-1] + h * a * (np.mean(X[:, i-1]) - X[asset, i-1]) + sig * np.sqrt(h) * W[asset, i-1]\n"
   ]
  },
  {
   "cell_type": "code",
   "execution_count": 32,
   "metadata": {},
   "outputs": [
    {
     "data": {
      "image/png": "[encoded data removed]",
      "text/plain": [
       "<Figure size 432x288 with 1 Axes>"
      ]
     },
     "metadata": {
      "needs_background": "light"
     },
     "output_type": "display_data"
    }
   ],
   "source": [
    "import numpy as np\n",
    "from scipy.stats import t, norm\n",
    "import matplotlib.pyplot as plt\n",
    "\n",
    "# Simulation parameters\n",
    "v = 5  # Degrees of freedom for t-distribution\n",
    "h = 10**(-4)\n",
    "threshold = 4.3  # Default threshold for asset value\n",
    "num_simulations = 1000  # Number of Monte Carlo simulations\n",
    "time = np.arange(0, 1.00, h)\n",
    "n = 10  # Number of assets (assuming n was intended to be defined)\n",
    "a = 10  # Mean reversion strength\n",
    "sig = 1  # Volatility\n",
    "\n",
    "# Placeholder for the normalized correlation matrix (needs actual values)\n",
    "M_normalised = np.eye(n)  # Simplified as an identity matrix for demonstration\n",
    "\n",
    "# Initialize default counter\n",
    "defaults_per_simulation = np.zeros(num_simulations)\n",
    "\n",
    "# Run Monte Carlo simulations\n",
    "for sim in range(num_simulations):\n",
    "    # Cholesky decomposition for correlated random variables\n",
    "    A = np.linalg.cholesky(M_normalised)\n",
    "    # Initial state\n",
    "    X = 5 * np.ones((n, len(time)))\n",
    "    # Generate random walks\n",
    "    for i in range(1, len(time)):\n",
    "        Z = np.random.normal(size=n)\n",
    "        y = A.dot(Z)\n",
    "        s = np.random.chisquare(v, n)\n",
    "        x = np.sqrt(v) * y / np.sqrt(s)\n",
    "        u = t.cdf(x, df=v)\n",
    "        W = norm.ppf(u)\n",
    "        # Update asset values using the model\n",
    "        X[:, i] = X[:, i-1] + h * a * (np.mean(X[:, i-1]) - X[:, i-1]) + sig * np.sqrt(h) * W\n",
    "    # Count defaults\n",
    "    defaults_per_simulation[sim] = np.sum(np.min(X, axis=1) < threshold)\n",
    "\n",
    "unique_counts_10, counts_frequencies_10 = np.unique(defaults_per_simulation, return_counts=True)\n",
    "\n",
    "# Normalize the frequencies to get probabilities (PMF)\n",
    "probabilities_10 = counts_frequencies_10 / num_simulations\n",
    "v = 5  # Degrees of freedom for t-distribution\n",
    "h = 10**(-4)\n",
    "time = np.arange(0, 1.00, h)\n",
    "\n",
    "threshold = 4.3  # Default threshold for asset value\n",
    "num_simulations = 1000  # Number of Monte Carlo simulations\n",
    "n = 10  # Number of assets (assuming n was intended to be defined)\n",
    "a = 0  # Mean reversion strength\n",
    "sig = 1  # Volatility\n",
    " # Time step size\n",
    "\n",
    "# Placeholder for the normalized correlation matrix (needs actual values)\n",
    "M_normalised = np.eye(n)  # Simplified as an identity matrix for demonstration\n",
    "\n",
    "# Initialize default counter\n",
    "defaults_per_simulation_0 = np.zeros(num_simulations)\n",
    "\n",
    "# Run Monte Carlo simulations\n",
    "for sim in range(num_simulations):\n",
    "    # Cholesky decomposition for correlated random variables\n",
    "    A = np.linalg.cholesky(M_normalised)\n",
    "    # Initial state\n",
    "    X = 5 * np.ones((n, len(time)))\n",
    "    # Generate random walks\n",
    "    for i in range(1, len(time)):\n",
    "        Z = np.random.normal(size=n)\n",
    "        y = A.dot(Z)\n",
    "        s = np.random.chisquare(v, n)\n",
    "        x = np.sqrt(v) * y / np.sqrt(s)\n",
    "        u = t.cdf(x, df=v)\n",
    "        W = norm.ppf(u)\n",
    "        # Update asset values using the model\n",
    "        X[:, i] = X[:, i-1] + h * a * (np.mean(X[:, i-1]) - X[:, i-1]) + sig * np.sqrt(h) * W\n",
    "    # Count defaults\n",
    "    defaults_per_simulation_0[sim] = np.sum(np.min(X, axis=1) < threshold)\n",
    "    \n",
    "unique_counts_0, counts_frequencies_0 = np.unique(defaults_per_simulation_0, return_counts=True)\n",
    "\n",
    "# Normalize the frequencies to get probabilities (PMF)\n",
    "probabilities_0 = counts_frequencies_0 / num_simulations\n",
    "    \n",
    "# Plot the distribution of defaults\n",
    "plt.plot(unique_counts_10, probabilities_10, color = 'black',label='a=10')\n",
    "plt.plot(unique_counts_0, probabilities_0, color = 'blue',label='a=0')\n",
    "plt.title('Distribution of Defaults in Monte Carlo Simulations')\n",
    "plt.xlabel('Number of Defaults')\n",
    "plt.ylabel('Frequency')\n",
    "plt.xticks(np.arange(0, 11, 1))\n",
    "plt.show()\n"
   ]
  },
  {
   "cell_type": "code",
   "execution_count": null,
   "metadata": {},
   "outputs": [],
   "source": []
  }
 ],
 "metadata": {
  "kernelspec": {
   "display_name": "Python 3",
   "language": "python",
   "name": "python3"
  },
  "language_info": {
   "codemirror_mode": {
    "name": "ipython",
    "version": 3
   },
   "file_extension": ".py",
   "mimetype": "text/x-python",
   "name": "python",
   "nbconvert_exporter": "python",
   "pygments_lexer": "ipython3",
   "version": "3.8.3"
  }
 },
 "nbformat": 4,
 "nbformat_minor": 4
}
